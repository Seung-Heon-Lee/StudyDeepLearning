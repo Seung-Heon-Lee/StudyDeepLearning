{
 "cells": [
  {
   "cell_type": "code",
   "execution_count": 6,
   "metadata": {},
   "outputs": [],
   "source": [
    "import numpy as np\n",
    "def AND(x1, x2): #perceptron으로 AND 게이트 구현\n",
    "    w1, w2, theta = 0.5, 0.5, 0.8\n",
    "    tmp = x1*w1 + x2*w2\n",
    "    if tmp > theta:\n",
    "        return 1\n",
    "    elif tmp <= theta:\n",
    "        return 0"
   ]
  },
  {
   "cell_type": "code",
   "execution_count": null,
   "metadata": {},
   "outputs": [],
   "source": []
  },
  {
   "cell_type": "code",
   "execution_count": 5,
   "metadata": {},
   "outputs": [
    {
     "name": "stdout",
     "output_type": "stream",
     "text": [
      "0\n",
      "0\n",
      "0\n",
      "1\n"
     ]
    }
   ],
   "source": [
    "print(AND(0,0))\n",
    "print(AND(1,0))\n",
    "print(AND(0,1))\n",
    "print(AND(1,1))"
   ]
  },
  {
   "cell_type": "code",
   "execution_count": 7,
   "metadata": {},
   "outputs": [],
   "source": [
    "def AND(x1, x2): #numpy와 bias 사용하여 AND 게이트 구현 # AND 게이트는  bias + 가중치의 합이 0보다 크도록 매개변수들을 설정\n",
    "    x = np.array([x1, x2])\n",
    "    w = np.array([0.5, 0.5])\n",
    "    b = -0.8\n",
    "    tmp = np.sum(w*x) + b\n",
    "    if tmp>0:\n",
    "        return 1\n",
    "    else:\n",
    "        return 0\n",
    "    \n",
    "    "
   ]
  },
  {
   "cell_type": "code",
   "execution_count": 8,
   "metadata": {},
   "outputs": [
    {
     "name": "stdout",
     "output_type": "stream",
     "text": [
      "0\n",
      "0\n",
      "0\n",
      "1\n"
     ]
    }
   ],
   "source": [
    "print(AND(0,0))\n",
    "print(AND(1,0))\n",
    "print(AND(0,1))\n",
    "print(AND(1,1))"
   ]
  },
  {
   "cell_type": "code",
   "execution_count": 9,
   "metadata": {},
   "outputs": [],
   "source": [
    "def NAND(x1,x2): #NAND 게이트 구현 #NAND 게이트는 AND게이트에서 매겨변수들의 부호만 반대로 바꿔주면 된다.\n",
    "    x = np.array([x1, x2])\n",
    "    w = np.array([-0.5, -0.5])\n",
    "    b = 0.8\n",
    "    tmp = np.sum(w*x) + b\n",
    "    if tmp > 0:\n",
    "        return 1\n",
    "    else:\n",
    "        return 0"
   ]
  },
  {
   "cell_type": "code",
   "execution_count": null,
   "metadata": {},
   "outputs": [],
   "source": []
  },
  {
   "cell_type": "code",
   "execution_count": 11,
   "metadata": {},
   "outputs": [
    {
     "name": "stdout",
     "output_type": "stream",
     "text": [
      "1\n",
      "1\n",
      "1\n",
      "0\n"
     ]
    }
   ],
   "source": [
    "print(NAND(0,0))\n",
    "print(NAND(1,0))\n",
    "print(NAND(0,1))\n",
    "print(NAND(1,1))"
   ]
  },
  {
   "cell_type": "code",
   "execution_count": 13,
   "metadata": {},
   "outputs": [],
   "source": [
    "def OR(x1, x2): #OR게이트 구현 #OR 게이트는 가장 작은 가중치와 bias의 합이 0보다 크도록 하면서 음수인 bias를 잡으면 된다.\n",
    "    x = np.array([x1,x2])\n",
    "    w= np.array([0.6, 0.4])\n",
    "    b = -0.3\n",
    "    tmp = np.sum(w*x) + b\n",
    "    if tmp > 0 :\n",
    "        return 1\n",
    "    else:\n",
    "        return 0\n",
    "    "
   ]
  },
  {
   "cell_type": "code",
   "execution_count": 14,
   "metadata": {},
   "outputs": [
    {
     "name": "stdout",
     "output_type": "stream",
     "text": [
      "0\n",
      "1\n",
      "1\n",
      "1\n"
     ]
    }
   ],
   "source": [
    "print(OR(0,0))\n",
    "print(OR(1,0))\n",
    "print(OR(0,1))\n",
    "print(OR(1,1))"
   ]
  },
  {
   "cell_type": "code",
   "execution_count": 15,
   "metadata": {},
   "outputs": [],
   "source": [
    "#XOR 게이트는 단층 퍼셉트론으로 구현이 불가능하다.(직선 하나로 나눈 영역만으로는 XOR 게이트를 표현할 수 없음.)\n",
    "#퍼셉트론을 여러개 쌓으면 XOR게이트를 구현할 수 있다. (비선형 영역을 구현할 수 있다.)\n"
   ]
  },
  {
   "cell_type": "code",
   "execution_count": 16,
   "metadata": {},
   "outputs": [],
   "source": [
    "#XOR 게이트는 3개의 논리 게이트를 조합하여 구현할 수 있다. 1층에 NAND 게이트와 OR게이트를 2층에 AND 게이트를 조합하면 된다.\n",
    "#XOR게이트의 조합방법은 유일한가? 조합법을 찾는 방법을 일반화할 수는 없을까?\n",
    " \n",
    "def XOR(x1, x2):\n",
    "    s1 = NAND(x1, x2)\n",
    "    s2 = OR(x1, x2)\n",
    "    y = AND(s1, s2)\n",
    "    return y\n",
    "    "
   ]
  },
  {
   "cell_type": "code",
   "execution_count": 17,
   "metadata": {},
   "outputs": [
    {
     "name": "stdout",
     "output_type": "stream",
     "text": [
      "0\n",
      "1\n",
      "1\n",
      "0\n"
     ]
    }
   ],
   "source": [
    "print(XOR(0,0))\n",
    "print(XOR(1,0))\n",
    "print(XOR(0,1))\n",
    "print(XOR(1,1))"
   ]
  },
  {
   "cell_type": "code",
   "execution_count": null,
   "metadata": {},
   "outputs": [],
   "source": [
    "# 단층 퍼셉트론으론 구현하지 못하는 것도 층을 늘림으로써 구현할 수 있다!\n",
    "#사실 NAND게이트만으로도 컴퓨터를 만들 수 있다! 즉 퍼셉트론만으로 컴퓨터가 수행하는 모든 기능들을 재현할 수 있다!"
   ]
  }
 ],
 "metadata": {
  "kernelspec": {
   "display_name": "Python 3",
   "language": "python",
   "name": "python3"
  },
  "language_info": {
   "codemirror_mode": {
    "name": "ipython",
    "version": 3
   },
   "file_extension": ".py",
   "mimetype": "text/x-python",
   "name": "python",
   "nbconvert_exporter": "python",
   "pygments_lexer": "ipython3",
   "version": "3.7.1"
  }
 },
 "nbformat": 4,
 "nbformat_minor": 2
}
